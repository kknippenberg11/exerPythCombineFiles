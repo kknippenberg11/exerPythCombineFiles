{
  "cells": [
    {
      "cell_type": "markdown",
      "id": "6eb10ebc",
      "metadata": {
        "deletable": false,
        "editable": false,
        "nbgrader": {
          "cell_type": "markdown",
          "checksum": "b92db13317f0e6015961bb08b3e82abe",
          "grade": false,
          "grade_id": "cell-5cf52405126f2776",
          "locked": true,
          "schema_version": 3,
          "solution": false,
          "task": false
        },
        "id": "6eb10ebc"
      },
      "source": [
        "# Python File Objects"
      ]
    },
    {
      "cell_type": "markdown",
      "id": "dde64ab9",
      "metadata": {
        "deletable": false,
        "editable": false,
        "nbgrader": {
          "cell_type": "markdown",
          "checksum": "a387926e4abf68d9b2700ae2a55753ff",
          "grade": false,
          "grade_id": "cell-c7eab4c0d23e582f",
          "locked": true,
          "schema_version": 3,
          "solution": false,
          "task": false
        },
        "id": "dde64ab9"
      },
      "source": [
        "### Instructions\n",
        "\n",
        "* Complete the programming exercises below.\n",
        "* Delete or comment out the line of code in each cell which says `raise NotImplementedError()` and replace it with your own.\n",
        "\n",
        "### Exercises"
      ]
    },
    {
      "cell_type": "markdown",
      "id": "d585affc",
      "metadata": {
        "deletable": false,
        "editable": false,
        "nbgrader": {
          "cell_type": "markdown",
          "checksum": "5883ccb9de705b4500eda96036feedf3",
          "grade": false,
          "grade_id": "cell-e901448fcdc0d1d8",
          "locked": true,
          "schema_version": 3,
          "solution": false,
          "task": false
        },
        "id": "d585affc"
      },
      "source": [
        "## Path to file or directory\n",
        "\n",
        "Sometimes you want to work with files in a particular directory. In order to do that you need to get the path. There are a couple different ways you can do that.\n",
        "\n",
        "In Windows you can open a command prompt (in Mac a terminal window) and drag the file or folder to the command prompt and the path will display in the window. You can then copy the path and paste it into your code. It will probably look something like this.\n",
        "\n",
        "`C:\\Users\\UserName\\Documents`\n",
        "\n",
        "To use the path in your code, you will want to assign it to a variable.\n",
        "\n",
        "`file_path = 'C:\\Users\\UserName\\Documents'`\n",
        "\n",
        "Windows users will quickly realize that their path as Windows formats it causes error when used without some modification. (Mac users won't have this problem because Macs format the path in a way that Python can use it without modification.) This is a problem for Windows users because Windows uses backslash (\\) characters in the file path. In Python, the backslash character is a special character. To use special characters in strings in Python, they need to have an escape character added before the special character. In Python, the escape character is the backslash (\\). One option Windows users have is to add an extra backslash in front of every backslash in the path. It will look like this.\n",
        "\n",
        "`file_path = 'C:\\\\Users\\\\UserName\\\\Documents'`\n",
        "\n",
        "Another option is to change each backslash (\\) to a forward slash (/).\n",
        "\n",
        "`file_path = 'C:/Users/UserName/Documents'`\n",
        "\n",
        "Another option is to format the string as a raw string. This option saves a lot of typing. This is done in Python by adding a lowercase `r` in front of the quotation marks for the string. This is a signal to Python to treat the string exactly as it is formatted and consider any special characters included in the string as literal characters.\n",
        "\n",
        "`file_path = r'C:\\Users\\UserName\\Documents'`\n",
        "\n",
        "Another option is to use a graphical user interface included in Python (called tkinter) to open a dialog window and allow the user to select the file or directory of interest. Run the code block below to use the file dialog to select the files directory included in the repository for this assignment. (Be sure to select the inner files directory which actually contains the files needed for the assignment.)"
      ]
    },
    {
      "cell_type": "markdown",
      "source": [
        "## Use this code with Google Colab\n",
        "\n",
        "The code blocks in this section with clone the GitHub repository and extrac the files you need from the zip archive. (A zip archive is a compressed folder that contains other files. The files need to be extracted before they can be used.)"
      ],
      "metadata": {
        "id": "BCX3IW8oVe_S"
      },
      "id": "BCX3IW8oVe_S"
    },
    {
      "cell_type": "code",
      "source": [
        "!git clone https://github.com/kknippenberg11/exerPythCombineFiles.git # replace the address shown with the address to your own repository"
      ],
      "metadata": {
        "id": "fakKJK4WTRQB",
        "outputId": "86aee9ef-0085-471b-e227-b215000070ed",
        "colab": {
          "base_uri": "https://localhost:8080/"
        }
      },
      "id": "fakKJK4WTRQB",
      "execution_count": 1,
      "outputs": [
        {
          "output_type": "stream",
          "name": "stdout",
          "text": [
            "Cloning into 'exerPythCombineFiles'...\n",
            "remote: Enumerating objects: 42, done.\u001b[K\n",
            "remote: Counting objects: 100% (28/28), done.\u001b[K\n",
            "remote: Compressing objects: 100% (24/24), done.\u001b[K\n",
            "remote: Total 42 (delta 16), reused 4 (delta 4), pack-reused 14 (from 1)\u001b[K\n",
            "Receiving objects: 100% (42/42), 40.15 KiB | 708.00 KiB/s, done.\n",
            "Resolving deltas: 100% (16/16), done.\n"
          ]
        }
      ]
    },
    {
      "cell_type": "code",
      "source": [
        "zip_path = '/content/exerPythCombineFiles/FileTypes.zip'"
      ],
      "metadata": {
        "id": "4RpiJpKFTk4e"
      },
      "id": "4RpiJpKFTk4e",
      "execution_count": 2,
      "outputs": []
    },
    {
      "cell_type": "code",
      "source": [
        "from zipfile import ZipFile\n",
        "with ZipFile(zip_path, 'r') as zip:\n",
        "  zip.extractall()\n",
        "  print('Done')"
      ],
      "metadata": {
        "id": "BnuEOTw-UPPG",
        "outputId": "114c6823-5061-4893-8f7b-e038dd7080ca",
        "colab": {
          "base_uri": "https://localhost:8080/"
        }
      },
      "id": "BnuEOTw-UPPG",
      "execution_count": 3,
      "outputs": [
        {
          "output_type": "stream",
          "name": "stdout",
          "text": [
            "Done\n"
          ]
        }
      ]
    },
    {
      "cell_type": "code",
      "source": [
        "# Get the path to the directory with the extracted files\n",
        "file_path = '/content/FileTypes'"
      ],
      "metadata": {
        "id": "c-rc2tmsV9GS"
      },
      "id": "c-rc2tmsV9GS",
      "execution_count": 4,
      "outputs": []
    },
    {
      "cell_type": "markdown",
      "source": [
        "## Skip this code block if you're using Google Colab\n",
        "\n",
        "This code block is used if you're working with files on your own computer. You can skip it if you're using Google Colab and you completed the steps above."
      ],
      "metadata": {
        "id": "eRgyPdbSWN3w"
      },
      "id": "eRgyPdbSWN3w"
    },
    {
      "cell_type": "code",
      "execution_count": null,
      "id": "6cbe2b94",
      "metadata": {
        "deletable": false,
        "editable": false,
        "nbgrader": {
          "cell_type": "code",
          "checksum": "feca7292f76a7194a482af7131a209a0",
          "grade": false,
          "grade_id": "cell-183af8e202482f24",
          "locked": true,
          "schema_version": 3,
          "solution": false,
          "task": false
        },
        "id": "6cbe2b94"
      },
      "outputs": [],
      "source": [
        "# Have user select the folder with the needed files.\n",
        "import tkinter as tk\n",
        "from tkinter import filedialog\n",
        "\n",
        "root = tk.Tk()\n",
        "root.lift()\n",
        "root.withdraw()\n",
        "\n",
        "# This code block will open a specific file. (Uncomment the lines after this comment to use them.)\n",
        "#print('Opening dialogue box for file selection. Please choose a file.')\n",
        "#file_path = filedialog.askopenfilename()\n",
        "#print('File selected:')\n",
        "\n",
        "# This code block will get a directory path. (Uncomment the lines after this comment to use them.)\n",
        "print('Opening dialogue box for folder selection. Please choose a folder.')\n",
        "file_path = filedialog.askdirectory()\n",
        "print('Folder selected:')\n",
        "\n",
        "print(file_path)"
      ]
    },
    {
      "cell_type": "markdown",
      "id": "c25e136f",
      "metadata": {
        "deletable": false,
        "editable": false,
        "nbgrader": {
          "cell_type": "markdown",
          "checksum": "53909d360d9af048066cffc30634b1a6",
          "grade": false,
          "grade_id": "cell-d16626c0c6bbe05e",
          "locked": true,
          "schema_version": 3,
          "solution": false,
          "task": false
        },
        "id": "c25e136f"
      },
      "source": [
        "## Working with different file types in Python\n",
        "\n",
        "The purpose of this assignment is to see how to work with different file types in Python. Run the code block below to see the different types of files included in the folder."
      ]
    },
    {
      "cell_type": "code",
      "execution_count": 5,
      "id": "d79836bd",
      "metadata": {
        "deletable": false,
        "editable": false,
        "nbgrader": {
          "cell_type": "code",
          "checksum": "1b4b1b7e9b0f816a028b9aa9ecbb3e56",
          "grade": false,
          "grade_id": "cell-63ec098105c6360f",
          "locked": true,
          "schema_version": 3,
          "solution": false,
          "task": false
        },
        "id": "d79836bd",
        "outputId": "fcd451bb-5ea2-4d9e-aacc-f8acdb51c78b",
        "colab": {
          "base_uri": "https://localhost:8080/"
        }
      },
      "outputs": [
        {
          "output_type": "stream",
          "name": "stdout",
          "text": [
            "All files in folder:  ['JSONtest3.json', 'Combine multiple file types with same columns into dataframe.ipynb', 'CSVtest.csv', 'EXCELtest2.xlsx', 'EXCELtest.xlsx', 'JSONtest.json', 'Combine multiple file types with same columns into dataframe.py', 'XMLtest.xml', 'CSVtest2.csv', 'XMLtest3.xml', 'XMLtest2.xml', 'JSONtest2.json'] \n",
            "\n",
            "CSV files:  ['CSVtest.csv', 'CSVtest2.csv'] \n",
            "Excel files:  ['EXCELtest2.xlsx', 'EXCELtest.xlsx'] \n",
            "JSON files:  ['JSONtest3.json', 'JSONtest.json', 'JSONtest2.json'] \n",
            "XML files:  ['XMLtest.xml', 'XMLtest3.xml', 'XMLtest2.xml']\n"
          ]
        }
      ],
      "source": [
        "# Make sure correct files are recognized.\n",
        "\n",
        "import os\n",
        "import pandas as pd\n",
        "\n",
        "# List the files in the directory.\n",
        "files = os.listdir(file_path)\n",
        "print('All files in folder: ', files, '\\n')\n",
        "\n",
        "# List of file types we want to add\n",
        "file_types = ['xlsx','csv','json','xml']\n",
        "\n",
        "# create a list of files for each file type\n",
        "files_csv = [f for f in files if f[-3:] == 'csv']\n",
        "files_xlsx = [f for f in files if f[-4:] == 'xlsx']\n",
        "files_json = [f for f in files if f[-4:] == 'json']\n",
        "files_xml = [f for f in files if f[-3:] == 'xml']\n",
        "\n",
        "print('CSV files: ', files_csv, '\\nExcel files: ', files_xlsx, '\\nJSON files: ',files_json, '\\nXML files: ', files_xml)"
      ]
    },
    {
      "cell_type": "markdown",
      "id": "41ecb133",
      "metadata": {
        "deletable": false,
        "editable": false,
        "nbgrader": {
          "cell_type": "markdown",
          "checksum": "036cbdaf3fccb0cf6e64a982dc89dd48",
          "grade": false,
          "grade_id": "cell-a6b8c71f6b3c4122",
          "locked": true,
          "schema_version": 3,
          "solution": false,
          "task": false
        },
        "id": "41ecb133"
      },
      "source": [
        "Write your answers as comments in the cell below.\n",
        "\n",
        "* What types of files are included in the folder? List the file extensions and how many of each type you see."
      ]
    },
    {
      "cell_type": "code",
      "execution_count": null,
      "id": "b231323f",
      "metadata": {
        "deletable": false,
        "nbgrader": {
          "cell_type": "code",
          "checksum": "411e33553ef624d8113dc68030dcd2e7",
          "grade": true,
          "grade_id": "cell-2e7557a700ca381e",
          "locked": false,
          "points": 2,
          "schema_version": 3,
          "solution": true,
          "task": false
        },
        "id": "b231323f",
        "collapsed": true
      },
      "outputs": [],
      "source": [
        "CSV files: 2\n",
        "Excel files: 2\n",
        "JSON files: 3\n",
        "XML files: 3\n",
        "IPYNB files: 1\n",
        "PY files: 1"
      ]
    },
    {
      "cell_type": "markdown",
      "source": [],
      "metadata": {
        "id": "dKL_qiEXXoau"
      },
      "id": "dKL_qiEXXoau"
    },
    {
      "cell_type": "markdown",
      "id": "b39c2827",
      "metadata": {
        "deletable": false,
        "editable": false,
        "nbgrader": {
          "cell_type": "markdown",
          "checksum": "616728e37e1fc6e8975a812b35ba637d",
          "grade": false,
          "grade_id": "cell-49ef237b3b87c9ef",
          "locked": true,
          "schema_version": 3,
          "solution": false,
          "task": false
        },
        "id": "b39c2827"
      },
      "source": [
        "## Creating a Pandas dataframe\n",
        "\n",
        "Run the code block below to read each data file and combine them into a Pandas dataframe."
      ]
    },
    {
      "cell_type": "code",
      "execution_count": null,
      "id": "fe8ee1d1",
      "metadata": {
        "deletable": false,
        "editable": false,
        "nbgrader": {
          "cell_type": "code",
          "checksum": "63101f07169f46ab9e272e861b050aff",
          "grade": false,
          "grade_id": "cell-777c52aa20d58ca8",
          "locked": true,
          "schema_version": 3,
          "solution": false,
          "task": false
        },
        "id": "fe8ee1d1"
      },
      "outputs": [],
      "source": [
        "import json\n",
        "import requests\n",
        "import xml.etree.ElementTree as ET\n",
        "\n",
        "# Iterate through the files in the directory and append each one into the dataframe.\n",
        "# This will only work correctly if the files have the exact same column names.\n",
        "df_list = []\n",
        "for f in files_csv:\n",
        "    data = pd.read_csv(str(file_path) + '/' + str(f), index_col=None, header=0)\n",
        "    data['Source'] = f\n",
        "    df_list.append(data)\n",
        "\n",
        "for f in files_xlsx:\n",
        "    data = pd.read_excel(str(file_path) + '/' + str(f))\n",
        "    data['Source'] = f\n",
        "    df_list.append(data)\n",
        "\n",
        "# Iterate through the json files and add data from each to a list.\n",
        "json_list = []\n",
        "for f in files_json:\n",
        "    with open(str(file_path) + '/' + str(f)) as json_file:\n",
        "        json_obj = json.load(json_file)\n",
        "        json_obj['Source'] = f\n",
        "        json_list.append(json_obj.copy())\n",
        "# Turn the combined list into a dataframe.\n",
        "data = pd.DataFrame(json_list)\n",
        "# Add the data frame to the list of dataframes.\n",
        "df_list.append(data)\n",
        "\n",
        "# Iterate through the xml files and add data from each to a list.\n",
        "xml_list = []\n",
        "for f in files_xml:\n",
        "    # create element tree object\n",
        "    tree = ET.parse(str(file_path) + '/' + str(f))\n",
        "    # get root element\n",
        "    root = tree.getroot()\n",
        "    # create dictionary from XML tags and values\n",
        "    itemdict = {}\n",
        "    for item in root:\n",
        "        itemdict[item.tag] = item.text\n",
        "    itemdict['Source'] = f\n",
        "    xml_list.append(itemdict.copy())\n",
        "# Turn the combined list into a dataframe.\n",
        "data = pd.DataFrame(xml_list)\n",
        "# Add the data frame to the list of dataframes.\n",
        "df_list.append(data)\n",
        "\n",
        "# Combine all the data frames in the list into a single data frame.\n",
        "df =  pd.concat(df_list, axis=0, ignore_index=True, sort=False)\n",
        "\n",
        "# See how many rows the data frame has.\n",
        "print(len(df.index))\n",
        "\n",
        "# Show the data in the data frame.\n",
        "df"
      ]
    },
    {
      "cell_type": "markdown",
      "id": "b9bcfaa3",
      "metadata": {
        "deletable": false,
        "editable": false,
        "nbgrader": {
          "cell_type": "markdown",
          "checksum": "5ffe1ee85e9a932d57ef6708d9ad2780",
          "grade": false,
          "grade_id": "cell-fc20f8a537557818",
          "locked": true,
          "schema_version": 3,
          "solution": false,
          "task": false
        },
        "id": "b9bcfaa3"
      },
      "source": [
        "## Saving a dataframe to csv\n",
        "\n",
        "Run the code block below to save your new dataframe as a csv file."
      ]
    },
    {
      "cell_type": "code",
      "execution_count": null,
      "id": "1e3e5a7d",
      "metadata": {
        "deletable": false,
        "editable": false,
        "nbgrader": {
          "cell_type": "code",
          "checksum": "d63ff84c0c6a7b1c4499c1320a82db65",
          "grade": false,
          "grade_id": "cell-8f820404d1d343ed",
          "locked": true,
          "schema_version": 3,
          "solution": false,
          "task": false
        },
        "id": "1e3e5a7d"
      },
      "outputs": [],
      "source": [
        "# Save the dataframe to a new combined csv file.\n",
        "\n",
        "# Add today's date to the name of the new file.\n",
        "from datetime import date\n",
        "today = date.today()\n",
        "print(today)\n",
        "\n",
        "filename = str(file_path) + '/' + 'NewCombinedFile_' + str(today) + '.csv'\n",
        "print(filename)\n",
        "\n",
        "df.to_csv(filename, index=False)\n",
        "print('File saved.')"
      ]
    },
    {
      "cell_type": "markdown",
      "id": "96b2f34c",
      "metadata": {
        "deletable": false,
        "editable": false,
        "nbgrader": {
          "cell_type": "markdown",
          "checksum": "5caccc71a46288d22884f19f41ba45a2",
          "grade": false,
          "grade_id": "cell-ffeacc8e7cac213c",
          "locked": true,
          "schema_version": 3,
          "solution": false,
          "task": false
        },
        "id": "96b2f34c"
      },
      "source": [
        "## Create additional data files\n",
        "\n",
        "Create a new data file for each type included in the folder. (You can use Excel to modify the content in the .xlsx and .csv files and save them under a new name in the same folder. You can use VSCode or Notepad++ to modify the content of an .xml and .json file and save those under a new name in the same folder.) Make sure you create at least one additional file for each type of data file in the folder."
      ]
    },
    {
      "cell_type": "markdown",
      "id": "607b9aa6",
      "metadata": {
        "deletable": false,
        "editable": false,
        "nbgrader": {
          "cell_type": "markdown",
          "checksum": "85db0e5d334b3bfe20b64a4ec1e4c372",
          "grade": false,
          "grade_id": "cell-e54523c23d0f01c1",
          "locked": true,
          "schema_version": 3,
          "solution": false,
          "task": false
        },
        "id": "607b9aa6"
      },
      "source": [
        "Enter code in the cell below.\n",
        "\n",
        "* Create a variable called `file_path` which contains the path to the folder where all the data files are included. You can use any of the methods described at the beginning of the notebook (Manually copy the path or copy the code to create a file dialog to choose the correct folder.)"
      ]
    },
    {
      "cell_type": "code",
      "execution_count": null,
      "id": "e2fa0776",
      "metadata": {
        "deletable": false,
        "nbgrader": {
          "cell_type": "code",
          "checksum": "361e07929d306cd9e8fa4c5ae3709b63",
          "grade": true,
          "grade_id": "cell-9e46a40a2a029afd",
          "locked": false,
          "points": 2,
          "schema_version": 3,
          "solution": true,
          "task": false
        },
        "id": "e2fa0776"
      },
      "outputs": [],
      "source": [
        "\n",
        "# YOUR CODE HERE\n",
        "raise NotImplementedError()"
      ]
    },
    {
      "cell_type": "markdown",
      "id": "4386fdd2",
      "metadata": {
        "deletable": false,
        "editable": false,
        "nbgrader": {
          "cell_type": "markdown",
          "checksum": "0ae36a589a1d7966b8ab3678102011b5",
          "grade": false,
          "grade_id": "cell-be96adc4fbda881b",
          "locked": true,
          "schema_version": 3,
          "solution": false,
          "task": false
        },
        "id": "4386fdd2"
      },
      "source": [
        "Enter code in the cell below.\n",
        "\n",
        "* Add code in the cell below to list the files in the folder and create lists for each data file type. (Hint - It's OK to reuse code from earlier in the assignment.)"
      ]
    },
    {
      "cell_type": "code",
      "execution_count": null,
      "id": "a650faed",
      "metadata": {
        "deletable": false,
        "nbgrader": {
          "cell_type": "code",
          "checksum": "4510ca612c9ad4a08f90022eeb4db8fa",
          "grade": true,
          "grade_id": "cell-53ce4edf792e3627",
          "locked": false,
          "points": 2,
          "schema_version": 3,
          "solution": true,
          "task": false
        },
        "id": "a650faed"
      },
      "outputs": [],
      "source": [
        "\n",
        "# YOUR CODE HERE\n",
        "raise NotImplementedError()"
      ]
    },
    {
      "cell_type": "markdown",
      "id": "e56b6eda",
      "metadata": {
        "deletable": false,
        "editable": false,
        "nbgrader": {
          "cell_type": "markdown",
          "checksum": "3e299951d3b6ac2081e24406a31a7bbf",
          "grade": false,
          "grade_id": "cell-9046144d63ad9faf",
          "locked": true,
          "schema_version": 3,
          "solution": false,
          "task": false
        },
        "id": "e56b6eda"
      },
      "source": [
        "Write you answers as comments in the cell below.\n",
        "\n",
        "* What types of files are included in the folder? List the file extensions and how many of each type you see."
      ]
    },
    {
      "cell_type": "code",
      "execution_count": null,
      "id": "e93c2e7b",
      "metadata": {
        "deletable": false,
        "nbgrader": {
          "cell_type": "code",
          "checksum": "2e46c44126e2c3d6d31e4f855cca05c1",
          "grade": true,
          "grade_id": "cell-b396c8c422e37b42",
          "locked": false,
          "points": 2,
          "schema_version": 3,
          "solution": true,
          "task": false
        },
        "id": "e93c2e7b"
      },
      "outputs": [],
      "source": [
        "\n",
        "# YOUR CODE HERE\n",
        "raise NotImplementedError()"
      ]
    },
    {
      "cell_type": "markdown",
      "id": "f32084d2",
      "metadata": {
        "deletable": false,
        "editable": false,
        "nbgrader": {
          "cell_type": "markdown",
          "checksum": "ceae4851ebc21a84a51f27ed084ea1d8",
          "grade": false,
          "grade_id": "cell-ac79fbd19d488577",
          "locked": true,
          "schema_version": 3,
          "solution": false,
          "task": false
        },
        "id": "f32084d2"
      },
      "source": [
        "Enter code in the cell below.\n",
        "\n",
        "* Add code in the cell below to read each data file and combine them into a Pandas dataframe and display the dataframe. (Hint - It's OK to reuse code from earlier in the assignment.)"
      ]
    },
    {
      "cell_type": "code",
      "execution_count": null,
      "id": "de01933e",
      "metadata": {
        "deletable": false,
        "nbgrader": {
          "cell_type": "code",
          "checksum": "8a1dbfe4b4958235b306d12cf4d59785",
          "grade": true,
          "grade_id": "cell-c2d07cf21cd676a1",
          "locked": false,
          "points": 2,
          "schema_version": 3,
          "solution": true,
          "task": false
        },
        "id": "de01933e"
      },
      "outputs": [],
      "source": [
        "\n",
        "# YOUR CODE HERE\n",
        "raise NotImplementedError()"
      ]
    },
    {
      "cell_type": "markdown",
      "id": "6328c230",
      "metadata": {
        "deletable": false,
        "editable": false,
        "nbgrader": {
          "cell_type": "markdown",
          "checksum": "d8069c1c76676e7fb2473f9734d61085",
          "grade": false,
          "grade_id": "cell-1f9b56443ee0fe56",
          "locked": true,
          "schema_version": 3,
          "solution": false,
          "task": false
        },
        "id": "6328c230"
      },
      "source": [
        "Enter code in the cell below.\n",
        "\n",
        "* Add code in the cell below to save your new dataframe as a csv file. (Hint - It's OK to reuse code from earlier in the assignment.)"
      ]
    },
    {
      "cell_type": "code",
      "execution_count": null,
      "id": "b9166a0c",
      "metadata": {
        "deletable": false,
        "nbgrader": {
          "cell_type": "code",
          "checksum": "f2e3edce85e2bec2716893357ff5dcce",
          "grade": true,
          "grade_id": "cell-737b71ac218cd8c8",
          "locked": false,
          "points": 2,
          "schema_version": 3,
          "solution": true,
          "task": false
        },
        "id": "b9166a0c"
      },
      "outputs": [],
      "source": [
        "\n",
        "# YOUR CODE HERE\n",
        "raise NotImplementedError()"
      ]
    },
    {
      "cell_type": "markdown",
      "source": [
        "# Push your updated files to GitHub\n",
        "\n",
        "If you're running this on Google Colab, you'll need to push your updated data files go GitHub and also upload your Jupyter Notebook with all of your output to your GitHub assignment repository. Instructions can be found at https://github.com/cmcntsh/OpenJupyterNBinGoogleColab\n",
        "\n",
        "Be sure to turn in the url to your GitHub repository in Canvas."
      ],
      "metadata": {
        "id": "E5XZBiEOYQxO"
      },
      "id": "E5XZBiEOYQxO"
    }
  ],
  "metadata": {
    "kernelspec": {
      "display_name": "Python 3",
      "language": "python",
      "name": "python3"
    },
    "language_info": {
      "codemirror_mode": {
        "name": "ipython",
        "version": 3
      },
      "file_extension": ".py",
      "mimetype": "text/x-python",
      "name": "python",
      "nbconvert_exporter": "python",
      "pygments_lexer": "ipython3",
      "version": "3.8.8"
    },
    "colab": {
      "provenance": []
    }
  },
  "nbformat": 4,
  "nbformat_minor": 5
}