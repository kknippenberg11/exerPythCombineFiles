{
  "nbformat": 4,
  "nbformat_minor": 0,
  "metadata": {
    "colab": {
      "provenance": [],
      "authorship_tag": "ABX9TyNPTl41Q57/FPfPIZkZy6Vp",
      "include_colab_link": true
    },
    "kernelspec": {
      "name": "python3",
      "display_name": "Python 3"
    },
    "language_info": {
      "name": "python"
    }
  },
  "cells": [
    {
      "cell_type": "markdown",
      "metadata": {
        "id": "view-in-github",
        "colab_type": "text"
      },
      "source": [
        "<a href=\"https://colab.research.google.com/github/kknippenberg11/exerPythCombineFiles/blob/master/Cloning.ipynb\" target=\"_parent\"><img src=\"https://colab.research.google.com/assets/colab-badge.svg\" alt=\"Open In Colab\"/></a>"
      ]
    },
    {
      "cell_type": "code",
      "execution_count": 1,
      "metadata": {
        "colab": {
          "base_uri": "https://localhost:8080/"
        },
        "id": "og9JVK8HUUtz",
        "outputId": "c16fe606-54e4-46ba-b575-cf5655c816c9"
      },
      "outputs": [
        {
          "output_type": "stream",
          "name": "stdout",
          "text": [
            "Cloning into 'exerPythCombineFiles'...\n",
            "remote: Enumerating objects: 39, done.\u001b[K\n",
            "remote: Counting objects: 100% (25/25), done.\u001b[K\n",
            "remote: Compressing objects: 100% (21/21), done.\u001b[K\n",
            "remote: Total 39 (delta 16), reused 4 (delta 4), pack-reused 14 (from 1)\u001b[K\n",
            "Receiving objects: 100% (39/39), 39.05 KiB | 540.00 KiB/s, done.\n",
            "Resolving deltas: 100% (16/16), done.\n"
          ]
        }
      ],
      "source": [
        "!git clone https://github.com/kknippenberg11/exerPythCombineFiles"
      ]
    },
    {
      "cell_type": "code",
      "source": [],
      "metadata": {
        "id": "HWpeQkU6UbmX"
      },
      "execution_count": null,
      "outputs": []
    }
  ]
}